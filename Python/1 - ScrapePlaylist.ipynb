{
 "cells": [
  {
   "cell_type": "code",
   "execution_count": 2,
   "metadata": {},
   "outputs": [],
   "source": [
    "import spotipy\n",
    "from spotipy.oauth2 import SpotifyClientCredentials\n",
    "import pandas as pd"
   ]
  },
  {
   "cell_type": "code",
   "execution_count": 3,
   "metadata": {},
   "outputs": [],
   "source": [
    "# Set up the Spotify API\n",
    "client_id = 'your client id'\n",
    "client_secret = 'your client secret'"
   ]
  },
  {
   "cell_type": "code",
   "execution_count": 4,
   "metadata": {},
   "outputs": [],
   "source": [
    "# Authenticate with the Spotify API\n",
    "client_credentials_manager = SpotifyClientCredentials(client_id=client_id, client_secret=client_secret)\n",
    "sp = spotipy.Spotify(client_credentials_manager=client_credentials_manager)"
   ]
  },
  {
   "cell_type": "code",
   "execution_count": 5,
   "metadata": {},
   "outputs": [],
   "source": [
    "# Fetch playlist data\n",
    "playlist_id = '2TcJW6fV7JKdd4aAiYRGYc' # use your own playlist id\n",
    "results = sp.playlist_items(playlist_id, offset=0, limit=100)"
   ]
  },
  {
   "cell_type": "code",
   "execution_count": 6,
   "metadata": {},
   "outputs": [],
   "source": [
    "# Initialize variables\n",
    "tracks = results['items']\n",
    "while results['next']:\n",
    "    results = sp.next(results)\n",
    "    tracks.extend(results['items'])"
   ]
  },
  {
   "cell_type": "code",
   "execution_count": 8,
   "metadata": {},
   "outputs": [],
   "source": [
    "# Extract and display playlist data\n",
    "data = []  # Store track data\n",
    "artist_ids = set()  # Store artist IDs\n",
    "\n",
    "for item in tracks:\n",
    "    track = item['track']\n",
    "    artist_id = track['artists'][0]['id']\n",
    "    artist_ids.add(artist_id)\n",
    "    data.append({\n",
    "        'name': track['name'],\n",
    "        'artist': track['artists'][0]['name'],\n",
    "        'artist_id': artist_id,\n",
    "        'album': track['album']['name'],\n",
    "        'duration': round(track['duration_ms'] / 60000, 2),  # Convert duration to minutes\n",
    "        'release_date': track['album']['release_date'],\n",
    "        'popularity': track['popularity'],\n",
    "        'track_url': track['external_urls']['spotify'],\n",
    "        'image_url': track['album']['images'][0]['url'] if track['album']['images'] else None  # Check if images list is not empty\n",
    "    })"
   ]
  },
  {
   "cell_type": "code",
   "execution_count": 9,
   "metadata": {},
   "outputs": [],
   "source": [
    "# Create a DataFrame\n",
    "df = pd.DataFrame(data)"
   ]
  },
  {
   "cell_type": "code",
   "execution_count": 10,
   "metadata": {},
   "outputs": [],
   "source": [
    "# Fetch artist genres\n",
    "artist_genres={}\n",
    "\n",
    "for artist_id in artist_ids:\n",
    "    artist = sp.artist(artist_id)\n",
    "    artist_genres[artist_id] = artist['genres']"
   ]
  },
  {
   "cell_type": "code",
   "execution_count": 11,
   "metadata": {},
   "outputs": [],
   "source": [
    "# Add genres to the dataframe\n",
    "df['genres'] = df['artist_id'].map(artist_genres)\n",
    "\n",
    "# genre column extraction had to be done separately because the genre column was a list of lists and not a list of strings as expected by the DataFrame "
   ]
  },
  {
   "cell_type": "code",
   "execution_count": 12,
   "metadata": {},
   "outputs": [
    {
     "name": "stdout",
     "output_type": "stream",
     "text": [
      "                                            name                  artist  \\\n",
      "0                                         Attack  Thirty Seconds To Mars   \n",
      "1                                       The Kill  Thirty Seconds To Mars   \n",
      "2                                           Grit                 palence   \n",
      "3   Major Tom (Völlig losgelöst) - 2022 Remaster         Peter Schilling   \n",
      "4  Major Tom (Völlig losgelöst) - Single Version         Peter Schilling   \n",
      "\n",
      "                artist_id                                        album  \\\n",
      "0  0RqtSIYZmd4fiBKVFqyIqD                              A Beautiful Lie   \n",
      "1  0RqtSIYZmd4fiBKVFqyIqD                              A Beautiful Lie   \n",
      "2  2hP9ky7jNcqy6F3nYKSGt8                                         Grit   \n",
      "3  7ip3CWlgPZbQHvgJpmcGSS             Fehler im System (2023 Remaster)   \n",
      "4  7ip3CWlgPZbQHvgJpmcGSS  Major Tom (Völlig losgelöst) [All Versions]   \n",
      "\n",
      "   duration release_date  popularity  \\\n",
      "0      3.14   2005-01-01          63   \n",
      "1      3.86   2005-01-01          77   \n",
      "2      4.01   2021-04-08          13   \n",
      "3      5.07   1982-10-04          65   \n",
      "4      4.00   1982-11-01          63   \n",
      "\n",
      "                                           track_url  \\\n",
      "0  https://open.spotify.com/track/0lHSJ0ZP8uUPnJX...   \n",
      "1  https://open.spotify.com/track/0lP4HYLmvowOKds...   \n",
      "2  https://open.spotify.com/track/6CKPaZBxG1UtYze...   \n",
      "3  https://open.spotify.com/track/3pR29mXC5gp0UjJ...   \n",
      "4  https://open.spotify.com/track/6u0F8YTqdUic3gM...   \n",
      "\n",
      "                                           image_url  \\\n",
      "0  https://i.scdn.co/image/ab67616d0000b273865b53...   \n",
      "1  https://i.scdn.co/image/ab67616d0000b273865b53...   \n",
      "2  https://i.scdn.co/image/ab67616d0000b273d751e7...   \n",
      "3  https://i.scdn.co/image/ab67616d0000b273305e60...   \n",
      "4  https://i.scdn.co/image/ab67616d0000b273e0c0f8...   \n",
      "\n",
      "                            genres  \n",
      "0       [modern rock, post-grunge]  \n",
      "1       [modern rock, post-grunge]  \n",
      "2                           [wave]  \n",
      "3  [neue deutsche welle, synthpop]  \n",
      "4  [neue deutsche welle, synthpop]  \n"
     ]
    }
   ],
   "source": [
    "# Display the dataframe\n",
    "print(df.head())"
   ]
  },
  {
   "cell_type": "code",
   "execution_count": 13,
   "metadata": {},
   "outputs": [],
   "source": [
    "# Save to CSV\n",
    "df.to_csv('1 - ScrapedPlaylist.csv', index=False)"
   ]
  }
 ],
 "metadata": {
  "kernelspec": {
   "display_name": "Python 3",
   "language": "python",
   "name": "python3"
  },
  "language_info": {
   "codemirror_mode": {
    "name": "ipython",
    "version": 3
   },
   "file_extension": ".py",
   "mimetype": "text/x-python",
   "name": "python",
   "nbconvert_exporter": "python",
   "pygments_lexer": "ipython3",
   "version": "3.12.4"
  }
 },
 "nbformat": 4,
 "nbformat_minor": 2
}
